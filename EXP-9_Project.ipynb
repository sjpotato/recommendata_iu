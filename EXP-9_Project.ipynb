{
 "cells": [
  {
   "cell_type": "markdown",
   "id": "dimensional-porter",
   "metadata": {},
   "source": [
    "# 9-9. 프로젝트 - Movielens 영화 추천 실습"
   ]
  },
  {
   "cell_type": "markdown",
   "id": "micro-transformation",
   "metadata": {},
   "source": [
    "이전 스텝에서 배운 MF 모델 학습 방법을 토대로, 내가 좋아할 만한 영화 추천 시스템을 제작해 보겠습니다.\n",
    "\n",
    "cloud jupyter 를 열고 aiffel/recommendata_iu/ 디렉토리에 python3로 ipynb파일을 생성 해 주세요 jupyter notebook 환경에서 프로젝트 코드를 작성하고 제출하시면 됩니다.\n",
    "\n",
    "이번에 활용할 데이터셋은 추천시스템의 MNIST라고 부를만한 Movielens 데이터입니다.\n",
    "\n",
    "유저가 영화에 대해 평점을 매긴 데이터가 데이터 크기 별로 있습니다. MovieLens 1M Dataset 사용을 권장합니다.\n",
    "별점 데이터는 대표적인 explicit 데이터입니다. 하지만 implicit 데이터로 간주하고 테스트해볼 수 있습니다.\n",
    "별점을 시청횟수로 해석해서 생각하겠습니다.\n",
    "또한 유저가 3점 미만으로 준 데이터는 선호하지 않는다고 가정하고 제외하겠습니다.\n",
    "Cloud Storage에 미리 업로드 된 ml-1m폴더 내 파일을 심볼릭 링크로 개인 storage에 연결 해 줍니다.\n",
    "\n",
    "Cloud shell에서 아래 명령어를 입력해주세요."
   ]
  },
  {
   "cell_type": "markdown",
   "id": "norman-terrorist",
   "metadata": {},
   "source": [
    "```\n",
    "mkdir -p ~/aiffel/recommendata_iu/data/ml-1m\n",
    "ln -s ~/data/ml-1m/* ~/aiffel/recommendata_iu/data/ml-1m\n",
    "```"
   ]
  },
  {
   "cell_type": "markdown",
   "id": "decimal-hopkins",
   "metadata": {},
   "source": [
    "## 1) 데이터 준비와 전처리\n",
    "Movielens 데이터는 rating.dat 안에 이미 인덱싱까지 완료된 사용자-영화-평점 데이터가 깔끔하게 정리되어 있습니다."
   ]
  },
  {
   "cell_type": "code",
   "execution_count": 1,
   "id": "growing-halloween",
   "metadata": {},
   "outputs": [],
   "source": [
    "import pandas as pd\n",
    "import os\n",
    "\n",
    "from scipy.sparse import csr_matrix\n",
    "from implicit.als import AlternatingLeastSquares"
   ]
  },
  {
   "cell_type": "code",
   "execution_count": 2,
   "id": "hazardous-cleaners",
   "metadata": {},
   "outputs": [
    {
     "data": {
      "text/html": [
       "<div>\n",
       "<style scoped>\n",
       "    .dataframe tbody tr th:only-of-type {\n",
       "        vertical-align: middle;\n",
       "    }\n",
       "\n",
       "    .dataframe tbody tr th {\n",
       "        vertical-align: top;\n",
       "    }\n",
       "\n",
       "    .dataframe thead th {\n",
       "        text-align: right;\n",
       "    }\n",
       "</style>\n",
       "<table border=\"1\" class=\"dataframe\">\n",
       "  <thead>\n",
       "    <tr style=\"text-align: right;\">\n",
       "      <th></th>\n",
       "      <th>user_id</th>\n",
       "      <th>movie_id</th>\n",
       "      <th>rating</th>\n",
       "      <th>timestamp</th>\n",
       "    </tr>\n",
       "  </thead>\n",
       "  <tbody>\n",
       "    <tr>\n",
       "      <th>0</th>\n",
       "      <td>1</td>\n",
       "      <td>1193</td>\n",
       "      <td>5</td>\n",
       "      <td>978300760</td>\n",
       "    </tr>\n",
       "    <tr>\n",
       "      <th>1</th>\n",
       "      <td>1</td>\n",
       "      <td>661</td>\n",
       "      <td>3</td>\n",
       "      <td>978302109</td>\n",
       "    </tr>\n",
       "    <tr>\n",
       "      <th>2</th>\n",
       "      <td>1</td>\n",
       "      <td>914</td>\n",
       "      <td>3</td>\n",
       "      <td>978301968</td>\n",
       "    </tr>\n",
       "    <tr>\n",
       "      <th>3</th>\n",
       "      <td>1</td>\n",
       "      <td>3408</td>\n",
       "      <td>4</td>\n",
       "      <td>978300275</td>\n",
       "    </tr>\n",
       "    <tr>\n",
       "      <th>4</th>\n",
       "      <td>1</td>\n",
       "      <td>2355</td>\n",
       "      <td>5</td>\n",
       "      <td>978824291</td>\n",
       "    </tr>\n",
       "  </tbody>\n",
       "</table>\n",
       "</div>"
      ],
      "text/plain": [
       "   user_id  movie_id  rating  timestamp\n",
       "0        1      1193       5  978300760\n",
       "1        1       661       3  978302109\n",
       "2        1       914       3  978301968\n",
       "3        1      3408       4  978300275\n",
       "4        1      2355       5  978824291"
      ]
     },
     "execution_count": 2,
     "metadata": {},
     "output_type": "execute_result"
    }
   ],
   "source": [
    "import os\n",
    "rating_file_path=os.getenv('HOME') + '/aiffel/recommendata_iu/data/ml-1m/ratings.dat'\n",
    "ratings_cols = ['user_id', 'movie_id', 'rating', 'timestamp']\n",
    "ratings = pd.read_csv(rating_file_path, sep='::', names=ratings_cols, engine='python', encoding = \"ISO-8859-1\")\n",
    "orginal_data_size = len(ratings)\n",
    "ratings.head()"
   ]
  },
  {
   "cell_type": "code",
   "execution_count": 3,
   "id": "consolidated-income",
   "metadata": {},
   "outputs": [
    {
     "name": "stdout",
     "output_type": "stream",
     "text": [
      "orginal_data_size: 1000209, filtered_data_size: 836478\n",
      "Ratio of Remaining Data is 83.63%\n"
     ]
    }
   ],
   "source": [
    "# 3점 이상만 남깁니다.\n",
    "ratings = ratings[ratings['rating']>=3]\n",
    "filtered_data_size = len(ratings)\n",
    "\n",
    "print(f'orginal_data_size: {orginal_data_size}, filtered_data_size: {filtered_data_size}')\n",
    "print(f'Ratio of Remaining Data is {filtered_data_size / orginal_data_size:.2%}')"
   ]
  },
  {
   "cell_type": "code",
   "execution_count": 4,
   "id": "handed-prediction",
   "metadata": {},
   "outputs": [],
   "source": [
    "# rating 컬럼의 이름을 count로 바꿉니다.\n",
    "ratings.rename(columns={'rating':'count'}, inplace=True)"
   ]
  },
  {
   "cell_type": "code",
   "execution_count": 5,
   "id": "controversial-understanding",
   "metadata": {},
   "outputs": [
    {
     "data": {
      "text/plain": [
       "0          5\n",
       "1          3\n",
       "2          3\n",
       "3          4\n",
       "4          5\n",
       "          ..\n",
       "1000203    3\n",
       "1000205    5\n",
       "1000206    5\n",
       "1000207    4\n",
       "1000208    4\n",
       "Name: count, Length: 836478, dtype: int64"
      ]
     },
     "execution_count": 5,
     "metadata": {},
     "output_type": "execute_result"
    }
   ],
   "source": [
    "ratings['count']"
   ]
  },
  {
   "cell_type": "code",
   "execution_count": 6,
   "id": "pediatric-killer",
   "metadata": {
    "scrolled": true
   },
   "outputs": [
    {
     "data": {
      "text/html": [
       "<div>\n",
       "<style scoped>\n",
       "    .dataframe tbody tr th:only-of-type {\n",
       "        vertical-align: middle;\n",
       "    }\n",
       "\n",
       "    .dataframe tbody tr th {\n",
       "        vertical-align: top;\n",
       "    }\n",
       "\n",
       "    .dataframe thead th {\n",
       "        text-align: right;\n",
       "    }\n",
       "</style>\n",
       "<table border=\"1\" class=\"dataframe\">\n",
       "  <thead>\n",
       "    <tr style=\"text-align: right;\">\n",
       "      <th></th>\n",
       "      <th>movie_id</th>\n",
       "      <th>title</th>\n",
       "      <th>genre</th>\n",
       "    </tr>\n",
       "  </thead>\n",
       "  <tbody>\n",
       "    <tr>\n",
       "      <th>0</th>\n",
       "      <td>1</td>\n",
       "      <td>Toy Story (1995)</td>\n",
       "      <td>Animation|Children's|Comedy</td>\n",
       "    </tr>\n",
       "    <tr>\n",
       "      <th>1</th>\n",
       "      <td>2</td>\n",
       "      <td>Jumanji (1995)</td>\n",
       "      <td>Adventure|Children's|Fantasy</td>\n",
       "    </tr>\n",
       "    <tr>\n",
       "      <th>2</th>\n",
       "      <td>3</td>\n",
       "      <td>Grumpier Old Men (1995)</td>\n",
       "      <td>Comedy|Romance</td>\n",
       "    </tr>\n",
       "    <tr>\n",
       "      <th>3</th>\n",
       "      <td>4</td>\n",
       "      <td>Waiting to Exhale (1995)</td>\n",
       "      <td>Comedy|Drama</td>\n",
       "    </tr>\n",
       "    <tr>\n",
       "      <th>4</th>\n",
       "      <td>5</td>\n",
       "      <td>Father of the Bride Part II (1995)</td>\n",
       "      <td>Comedy</td>\n",
       "    </tr>\n",
       "  </tbody>\n",
       "</table>\n",
       "</div>"
      ],
      "text/plain": [
       "   movie_id                               title                         genre\n",
       "0         1                    Toy Story (1995)   Animation|Children's|Comedy\n",
       "1         2                      Jumanji (1995)  Adventure|Children's|Fantasy\n",
       "2         3             Grumpier Old Men (1995)                Comedy|Romance\n",
       "3         4            Waiting to Exhale (1995)                  Comedy|Drama\n",
       "4         5  Father of the Bride Part II (1995)                        Comedy"
      ]
     },
     "execution_count": 6,
     "metadata": {},
     "output_type": "execute_result"
    }
   ],
   "source": [
    "# 영화 제목을 보기 위해 메타 데이터를 읽어옵니다.\n",
    "movie_file_path=os.getenv('HOME') + '/aiffel/recommendata_iu/data/ml-1m/movies.dat'\n",
    "cols = ['movie_id', 'title', 'genre'] \n",
    "movies = pd.read_csv(movie_file_path, sep='::', names=cols, engine='python', encoding='ISO-8859-1')\n",
    "movies.head()"
   ]
  },
  {
   "cell_type": "markdown",
   "id": "dated-density",
   "metadata": {},
   "source": [
    "여기까지가 전처리입니다. 이후에는 이전 스텝에 소개했던 것과 동일한 방식으로 MF model을 구성하여 내가 좋아할 만한 영화를 추천해 볼 수 있습니다."
   ]
  },
  {
   "cell_type": "markdown",
   "id": "similar-editing",
   "metadata": {},
   "source": [
    "## 2) 분석해 봅시다."
   ]
  },
  {
   "cell_type": "markdown",
   "id": "driven-debate",
   "metadata": {},
   "source": [
    "* ratings에 있는 유니크한 영화 개수\n",
    "\n",
    "* rating에 있는 유니크한 사용자 수\n",
    "\n",
    "* 가장 인기 있는 영화 30개(인기순)"
   ]
  },
  {
   "cell_type": "code",
   "execution_count": 7,
   "id": "short-pontiac",
   "metadata": {},
   "outputs": [],
   "source": [
    "# 고유한영화 를 찾아내는 코드\n",
    "movies_unique = movies['title'].unique()\n",
    "\n",
    "# 영화명을 코드로 idx는 index\n",
    "title_to_idx = {k:v for k,v in enumerate(movies_unique)}"
   ]
  },
  {
   "cell_type": "code",
   "execution_count": 8,
   "id": "aerial-finder",
   "metadata": {},
   "outputs": [
    {
     "name": "stdout",
     "output_type": "stream",
     "text": [
      "3628\n",
      "6039\n"
     ]
    },
    {
     "data": {
      "text/plain": [
       "movie_id\n",
       "2858    3211\n",
       "260     2910\n",
       "1196    2885\n",
       "1210    2716\n",
       "2028    2561\n",
       "589     2509\n",
       "593     2498\n",
       "1198    2473\n",
       "1270    2460\n",
       "2571    2434\n",
       "480     2413\n",
       "2762    2385\n",
       "608     2371\n",
       "110     2314\n",
       "1580    2297\n",
       "527     2257\n",
       "1197    2252\n",
       "2396    2213\n",
       "1617    2210\n",
       "318     2194\n",
       "858     2167\n",
       "1265    2121\n",
       "1097    2102\n",
       "2997    2066\n",
       "2716    2051\n",
       "296     2030\n",
       "356     2022\n",
       "1240    2019\n",
       "1       2000\n",
       "457     1941\n",
       "Name: user_id, dtype: int64"
      ]
     },
     "execution_count": 8,
     "metadata": {},
     "output_type": "execute_result"
    }
   ],
   "source": [
    "# ratings에 있는 유니크한 영화 개수\n",
    "print(ratings['movie_id'].nunique())\n",
    "\n",
    "# rating에 있는 유니크한 사용자 수\n",
    "print(ratings['user_id'].nunique())\n",
    "\n",
    "# 인기 많은 영화 30개\n",
    "movie_count = ratings.groupby('movie_id')['user_id'].count()\n",
    "movie_count.sort_values(ascending=False).head(30)"
   ]
  },
  {
   "cell_type": "markdown",
   "id": "according-collector",
   "metadata": {},
   "source": [
    "## 3) 내가 선호하는 영화를 5가지 골라서 rating에 추가해 줍시다."
   ]
  },
  {
   "cell_type": "code",
   "execution_count": 9,
   "id": "fundamental-mambo",
   "metadata": {
    "scrolled": false
   },
   "outputs": [
    {
     "data": {
      "text/html": [
       "<div>\n",
       "<style scoped>\n",
       "    .dataframe tbody tr th:only-of-type {\n",
       "        vertical-align: middle;\n",
       "    }\n",
       "\n",
       "    .dataframe tbody tr th {\n",
       "        vertical-align: top;\n",
       "    }\n",
       "\n",
       "    .dataframe thead th {\n",
       "        text-align: right;\n",
       "    }\n",
       "</style>\n",
       "<table border=\"1\" class=\"dataframe\">\n",
       "  <thead>\n",
       "    <tr style=\"text-align: right;\">\n",
       "      <th></th>\n",
       "      <th>user_id</th>\n",
       "      <th>movie_id</th>\n",
       "      <th>count</th>\n",
       "      <th>timestamp</th>\n",
       "    </tr>\n",
       "  </thead>\n",
       "  <tbody>\n",
       "    <tr>\n",
       "      <th>0</th>\n",
       "      <td>1</td>\n",
       "      <td>1193</td>\n",
       "      <td>5</td>\n",
       "      <td>978300760</td>\n",
       "    </tr>\n",
       "    <tr>\n",
       "      <th>1</th>\n",
       "      <td>1</td>\n",
       "      <td>661</td>\n",
       "      <td>3</td>\n",
       "      <td>978302109</td>\n",
       "    </tr>\n",
       "    <tr>\n",
       "      <th>2</th>\n",
       "      <td>1</td>\n",
       "      <td>914</td>\n",
       "      <td>3</td>\n",
       "      <td>978301968</td>\n",
       "    </tr>\n",
       "    <tr>\n",
       "      <th>3</th>\n",
       "      <td>1</td>\n",
       "      <td>3408</td>\n",
       "      <td>4</td>\n",
       "      <td>978300275</td>\n",
       "    </tr>\n",
       "    <tr>\n",
       "      <th>4</th>\n",
       "      <td>1</td>\n",
       "      <td>2355</td>\n",
       "      <td>5</td>\n",
       "      <td>978824291</td>\n",
       "    </tr>\n",
       "    <tr>\n",
       "      <th>5</th>\n",
       "      <td>1</td>\n",
       "      <td>1197</td>\n",
       "      <td>3</td>\n",
       "      <td>978302268</td>\n",
       "    </tr>\n",
       "    <tr>\n",
       "      <th>6</th>\n",
       "      <td>1</td>\n",
       "      <td>1287</td>\n",
       "      <td>5</td>\n",
       "      <td>978302039</td>\n",
       "    </tr>\n",
       "    <tr>\n",
       "      <th>7</th>\n",
       "      <td>1</td>\n",
       "      <td>2804</td>\n",
       "      <td>5</td>\n",
       "      <td>978300719</td>\n",
       "    </tr>\n",
       "    <tr>\n",
       "      <th>8</th>\n",
       "      <td>1</td>\n",
       "      <td>594</td>\n",
       "      <td>4</td>\n",
       "      <td>978302268</td>\n",
       "    </tr>\n",
       "    <tr>\n",
       "      <th>9</th>\n",
       "      <td>1</td>\n",
       "      <td>919</td>\n",
       "      <td>4</td>\n",
       "      <td>978301368</td>\n",
       "    </tr>\n",
       "    <tr>\n",
       "      <th>10</th>\n",
       "      <td>1</td>\n",
       "      <td>595</td>\n",
       "      <td>5</td>\n",
       "      <td>978824268</td>\n",
       "    </tr>\n",
       "    <tr>\n",
       "      <th>11</th>\n",
       "      <td>1</td>\n",
       "      <td>938</td>\n",
       "      <td>4</td>\n",
       "      <td>978301752</td>\n",
       "    </tr>\n",
       "    <tr>\n",
       "      <th>12</th>\n",
       "      <td>1</td>\n",
       "      <td>2398</td>\n",
       "      <td>4</td>\n",
       "      <td>978302281</td>\n",
       "    </tr>\n",
       "    <tr>\n",
       "      <th>13</th>\n",
       "      <td>1</td>\n",
       "      <td>2918</td>\n",
       "      <td>4</td>\n",
       "      <td>978302124</td>\n",
       "    </tr>\n",
       "    <tr>\n",
       "      <th>14</th>\n",
       "      <td>1</td>\n",
       "      <td>1035</td>\n",
       "      <td>5</td>\n",
       "      <td>978301753</td>\n",
       "    </tr>\n",
       "  </tbody>\n",
       "</table>\n",
       "</div>"
      ],
      "text/plain": [
       "    user_id  movie_id  count  timestamp\n",
       "0         1      1193      5  978300760\n",
       "1         1       661      3  978302109\n",
       "2         1       914      3  978301968\n",
       "3         1      3408      4  978300275\n",
       "4         1      2355      5  978824291\n",
       "5         1      1197      3  978302268\n",
       "6         1      1287      5  978302039\n",
       "7         1      2804      5  978300719\n",
       "8         1       594      4  978302268\n",
       "9         1       919      4  978301368\n",
       "10        1       595      5  978824268\n",
       "11        1       938      4  978301752\n",
       "12        1      2398      4  978302281\n",
       "13        1      2918      4  978302124\n",
       "14        1      1035      5  978301753"
      ]
     },
     "execution_count": 9,
     "metadata": {},
     "output_type": "execute_result"
    }
   ],
   "source": [
    "ratings.head(15)\n",
    "# 선호영화 ID : 1035, 2918, 2398, 938, 595"
   ]
  },
  {
   "cell_type": "code",
   "execution_count": 10,
   "id": "limited-convergence",
   "metadata": {},
   "outputs": [
    {
     "name": "stdout",
     "output_type": "stream",
     "text": [
      "1\n",
      "6040\n"
     ]
    }
   ],
   "source": [
    "print(ratings['user_id'].min())\n",
    "print(ratings['user_id'].max())\n",
    "# user_id : 7777 생성"
   ]
  },
  {
   "cell_type": "code",
   "execution_count": 11,
   "id": "coordinated-detroit",
   "metadata": {},
   "outputs": [
    {
     "data": {
      "text/plain": [
       "<bound method NDFrame.tail of    user_id movie_id  count  timestamp\n",
       "0        1     1193      5  978300760\n",
       "1        1      661      3  978302109\n",
       "2        1      914      3  978301968\n",
       "3        1     3408      4  978300275\n",
       "4        1     2355      5  978824291\n",
       "..     ...      ...    ...        ...\n",
       "0     7777     1035      5          0\n",
       "1     7777     2918      5          0\n",
       "2     7777     2398      5          0\n",
       "3     7777      938      5          0\n",
       "4     7777      595      5          0\n",
       "\n",
       "[836483 rows x 4 columns]>"
      ]
     },
     "execution_count": 11,
     "metadata": {},
     "output_type": "execute_result"
    }
   ],
   "source": [
    "# 선호하는 영화 5가지\n",
    "my_favorite = ['1035', '2918', '2398', '938', '595']\n",
    "\n",
    "# '7777'이라는 user_id가 위 아티스트의 노래를 30회씩 들었다고 가정하겠습니다.\n",
    "my_playlist = pd.DataFrame({'user_id': ['7777']*5, 'movie_id': my_favorite, 'count':[5]*5,'timestamp':[0]*5})\n",
    "\n",
    "if not ratings.isin({'user_id':['7777']})['user_id'].any():\n",
    "    ratings = ratings.append(my_playlist)\n",
    "\n",
    "# 잘 추가되었는지 확인\n",
    "ratings.tail"
   ]
  },
  {
   "cell_type": "markdown",
   "id": "alien-stone",
   "metadata": {},
   "source": [
    "## 4) CSR matrix를 직접 만들어 봅시다."
   ]
  },
  {
   "cell_type": "code",
   "execution_count": 12,
   "id": "ambient-finding",
   "metadata": {},
   "outputs": [
    {
     "name": "stdout",
     "output_type": "stream",
     "text": [
      "6039\n",
      "0\n"
     ]
    }
   ],
   "source": [
    "# 고유한 유저, 아티스트를 찾아내는 코드\n",
    "user_unique  = ratings['user_id'].unique()\n",
    "movie_unique = ratings['movie_id'].unique()\n",
    "\n",
    "# 유저, 아티스트 indexing 하는 코드 idx는 index의 약자입니다.\n",
    "user_to_idx  = {v:k for k,v in enumerate(user_unique)}\n",
    "movie_to_idx = {v:k for k,v in enumerate(movie_unique)}\n",
    "\n",
    "print(user_to_idx['7777'])    # 유저 중 마지막으로 추가된 유저\n",
    "print(movie_to_idx[1193])     # 첫번째 데이터 확인"
   ]
  },
  {
   "cell_type": "code",
   "execution_count": 13,
   "id": "complex-camera",
   "metadata": {},
   "outputs": [
    {
     "name": "stdout",
     "output_type": "stream",
     "text": [
      "user_id column indexing OK!!\n",
      "movie column indexing OK!!\n"
     ]
    },
    {
     "data": {
      "text/html": [
       "<div>\n",
       "<style scoped>\n",
       "    .dataframe tbody tr th:only-of-type {\n",
       "        vertical-align: middle;\n",
       "    }\n",
       "\n",
       "    .dataframe tbody tr th {\n",
       "        vertical-align: top;\n",
       "    }\n",
       "\n",
       "    .dataframe thead th {\n",
       "        text-align: right;\n",
       "    }\n",
       "</style>\n",
       "<table border=\"1\" class=\"dataframe\">\n",
       "  <thead>\n",
       "    <tr style=\"text-align: right;\">\n",
       "      <th></th>\n",
       "      <th>user_id</th>\n",
       "      <th>movie_id</th>\n",
       "      <th>count</th>\n",
       "      <th>timestamp</th>\n",
       "    </tr>\n",
       "  </thead>\n",
       "  <tbody>\n",
       "    <tr>\n",
       "      <th>0</th>\n",
       "      <td>0</td>\n",
       "      <td>0</td>\n",
       "      <td>5</td>\n",
       "      <td>978300760</td>\n",
       "    </tr>\n",
       "    <tr>\n",
       "      <th>1</th>\n",
       "      <td>0</td>\n",
       "      <td>1</td>\n",
       "      <td>3</td>\n",
       "      <td>978302109</td>\n",
       "    </tr>\n",
       "    <tr>\n",
       "      <th>2</th>\n",
       "      <td>0</td>\n",
       "      <td>2</td>\n",
       "      <td>3</td>\n",
       "      <td>978301968</td>\n",
       "    </tr>\n",
       "    <tr>\n",
       "      <th>3</th>\n",
       "      <td>0</td>\n",
       "      <td>3</td>\n",
       "      <td>4</td>\n",
       "      <td>978300275</td>\n",
       "    </tr>\n",
       "    <tr>\n",
       "      <th>4</th>\n",
       "      <td>0</td>\n",
       "      <td>4</td>\n",
       "      <td>5</td>\n",
       "      <td>978824291</td>\n",
       "    </tr>\n",
       "    <tr>\n",
       "      <th>...</th>\n",
       "      <td>...</td>\n",
       "      <td>...</td>\n",
       "      <td>...</td>\n",
       "      <td>...</td>\n",
       "    </tr>\n",
       "    <tr>\n",
       "      <th>0</th>\n",
       "      <td>6039</td>\n",
       "      <td>3628</td>\n",
       "      <td>5</td>\n",
       "      <td>0</td>\n",
       "    </tr>\n",
       "    <tr>\n",
       "      <th>1</th>\n",
       "      <td>6039</td>\n",
       "      <td>3629</td>\n",
       "      <td>5</td>\n",
       "      <td>0</td>\n",
       "    </tr>\n",
       "    <tr>\n",
       "      <th>2</th>\n",
       "      <td>6039</td>\n",
       "      <td>3630</td>\n",
       "      <td>5</td>\n",
       "      <td>0</td>\n",
       "    </tr>\n",
       "    <tr>\n",
       "      <th>3</th>\n",
       "      <td>6039</td>\n",
       "      <td>3631</td>\n",
       "      <td>5</td>\n",
       "      <td>0</td>\n",
       "    </tr>\n",
       "    <tr>\n",
       "      <th>4</th>\n",
       "      <td>6039</td>\n",
       "      <td>3632</td>\n",
       "      <td>5</td>\n",
       "      <td>0</td>\n",
       "    </tr>\n",
       "  </tbody>\n",
       "</table>\n",
       "<p>836483 rows × 4 columns</p>\n",
       "</div>"
      ],
      "text/plain": [
       "    user_id  movie_id  count  timestamp\n",
       "0         0         0      5  978300760\n",
       "1         0         1      3  978302109\n",
       "2         0         2      3  978301968\n",
       "3         0         3      4  978300275\n",
       "4         0         4      5  978824291\n",
       "..      ...       ...    ...        ...\n",
       "0      6039      3628      5          0\n",
       "1      6039      3629      5          0\n",
       "2      6039      3630      5          0\n",
       "3      6039      3631      5          0\n",
       "4      6039      3632      5          0\n",
       "\n",
       "[836483 rows x 4 columns]"
      ]
     },
     "execution_count": 13,
     "metadata": {},
     "output_type": "execute_result"
    }
   ],
   "source": [
    "# indexing을 통해 데이터 컬럼 내 값을 바꾸는 코드\n",
    "\n",
    "# user_to_idx.get을 통해 user_id 컬럼의 모든 값을 인덱싱한 Series를 구해 봅시다. \n",
    "# 혹시 정상적으로 인덱싱되지 않은 row가 있다면 인덱스가 NaN이 될 테니 dropna()로 제거\n",
    "temp_user_data = ratings['user_id'].map(user_to_idx.get).dropna()\n",
    "if len(temp_user_data) == len(ratings):   # 모든 row가 정상적으로 인덱싱되었다면\n",
    "    print('user_id column indexing OK!!')\n",
    "    ratings['user_id'] = temp_user_data   # ratings['user_id']을 인덱싱된 Series로 교체해 줍니다. \n",
    "else:\n",
    "    print('user_id column indexing Fail!!')\n",
    "\n",
    "# movie_to_idx을 통해 movie_id 컬럼도 동일한 방식으로 인덱싱해 줍니다. \n",
    "temp_movie_data = ratings['movie_id'].map(movie_to_idx.get).dropna()\n",
    "if len(temp_movie_data) == len(ratings):\n",
    "    print('movie column indexing OK!!')\n",
    "    ratings['movie_id'] = temp_movie_data\n",
    "else:\n",
    "    print('movie column indexing Fail!!')\n",
    "\n",
    "ratings"
   ]
  },
  {
   "cell_type": "code",
   "execution_count": 14,
   "id": "vulnerable-combine",
   "metadata": {},
   "outputs": [
    {
     "data": {
      "text/plain": [
       "<6040x3633 sparse matrix of type '<class 'numpy.longlong'>'\n",
       "\twith 836483 stored elements in Compressed Sparse Row format>"
      ]
     },
     "execution_count": 14,
     "metadata": {},
     "output_type": "execute_result"
    }
   ],
   "source": [
    "# CSR METRIX 생성\n",
    "from scipy.sparse import csr_matrix\n",
    "\n",
    "num_user  = ratings['user_id'].nunique()\n",
    "num_movie = ratings['movie_id'].nunique()\n",
    "\n",
    "csr_data = csr_matrix((ratings['count'], (ratings.user_id, ratings.movie_id)), shape= (num_user, num_movie))\n",
    "csr_data"
   ]
  },
  {
   "cell_type": "markdown",
   "id": "former-malta",
   "metadata": {},
   "source": [
    "## 5) als_model = AlternatingLeastSquares 모델을 직접 구성하여 훈련시켜 봅시다."
   ]
  },
  {
   "cell_type": "code",
   "execution_count": 15,
   "id": "joint-modeling",
   "metadata": {},
   "outputs": [],
   "source": [
    "from implicit.als import AlternatingLeastSquares\n",
    "import os\n",
    "import numpy as np\n",
    "\n",
    "# implicit 라이브러리에서 권장하고 있는 부분입니다. 학습 내용과는 무관합니다.\n",
    "os.environ['OPENBLAS_NUM_THREADS']='1'\n",
    "os.environ['KMP_DUPLICATE_LIB_OK']='True'\n",
    "os.environ['MKL_NUM_THREADS']='1'"
   ]
  },
  {
   "cell_type": "code",
   "execution_count": 16,
   "id": "quality-consequence",
   "metadata": {},
   "outputs": [],
   "source": [
    "# Implicit AlternatingLeastSquares 모델의 선언\n",
    "als_model = AlternatingLeastSquares(factors=100, regularization=0.01, use_gpu=False, iterations=15, dtype=np.float32)"
   ]
  },
  {
   "cell_type": "code",
   "execution_count": 17,
   "id": "emerging-medication",
   "metadata": {},
   "outputs": [
    {
     "data": {
      "text/plain": [
       "<3633x6040 sparse matrix of type '<class 'numpy.longlong'>'\n",
       "\twith 836483 stored elements in Compressed Sparse Column format>"
      ]
     },
     "execution_count": 17,
     "metadata": {},
     "output_type": "execute_result"
    }
   ],
   "source": [
    "# als 모델은 input으로 (item X user 꼴의 matrix를 받기 때문에 Transpose해줍니다.)\n",
    "csr_data_transpose = csr_data.T\n",
    "csr_data_transpose"
   ]
  },
  {
   "cell_type": "code",
   "execution_count": 18,
   "id": "flush-showcase",
   "metadata": {},
   "outputs": [
    {
     "data": {
      "application/vnd.jupyter.widget-view+json": {
       "model_id": "21ab3c9d54a34d5e87302f6ea714bcd4",
       "version_major": 2,
       "version_minor": 0
      },
      "text/plain": [
       "  0%|          | 0/15 [00:00<?, ?it/s]"
      ]
     },
     "metadata": {},
     "output_type": "display_data"
    }
   ],
   "source": [
    "# 모델 훈련\n",
    "als_model.fit(csr_data_transpose)"
   ]
  },
  {
   "cell_type": "markdown",
   "id": "sitting-mountain",
   "metadata": {},
   "source": [
    "## 6) 내가 선호하는 5가지 영화 중 하나와 그 외의 영화 하나를 골라 훈련된 모델이 예측한 나의 선호도를 파악해 보세요."
   ]
  },
  {
   "cell_type": "code",
   "execution_count": 19,
   "id": "eligible-conflict",
   "metadata": {},
   "outputs": [
    {
     "data": {
      "text/plain": [
       "array([-0.00840781,  0.0113592 , -0.00831262, -0.00463314,  0.01331623,\n",
       "       -0.01999337, -0.02603151,  0.0113066 , -0.02349801, -0.00270255,\n",
       "       -0.0218832 ,  0.01007402,  0.01062614, -0.00862445,  0.01070968,\n",
       "        0.01763801,  0.01397138, -0.02426327, -0.00245043, -0.00465738,\n",
       "        0.0267834 ,  0.02174296, -0.01299721, -0.01129712,  0.03593904,\n",
       "        0.0033514 , -0.02132326, -0.01497498,  0.01338178, -0.01961353,\n",
       "        0.01415914, -0.00314916,  0.00322307, -0.00288308,  0.01580591,\n",
       "        0.00494699,  0.01795966,  0.01537743,  0.00840407, -0.0193224 ,\n",
       "        0.01102238, -0.01537501,  0.01300465, -0.00542041,  0.01369915,\n",
       "       -0.0123802 , -0.00394402, -0.00965467,  0.02036744, -0.01035865,\n",
       "       -0.023769  ,  0.00244144,  0.02595178, -0.02544961, -0.02257939,\n",
       "       -0.02653877, -0.02001136,  0.00716687, -0.00049212,  0.00236762,\n",
       "        0.00439306,  0.02437705,  0.02014806,  0.02894879,  0.00984494,\n",
       "        0.00141597, -0.03029048, -0.00615879,  0.00676321,  0.02475588,\n",
       "        0.00490005, -0.0076502 , -0.01045089,  0.03715225,  0.01384352,\n",
       "       -0.00766077, -0.01251259,  0.03060322, -0.01661667,  0.03072846,\n",
       "       -0.0395731 , -0.02200959, -0.02186313,  0.00176445, -0.01423845,\n",
       "       -0.00156815,  0.02036135,  0.00847333, -0.01585252,  0.00551802,\n",
       "        0.00988408, -0.01210174,  0.02201091, -0.00480932,  0.00119099,\n",
       "        0.00301386,  0.00852846,  0.00346227, -0.00155506,  0.00537938],\n",
       "      dtype=float32)"
      ]
     },
     "execution_count": 19,
     "metadata": {},
     "output_type": "execute_result"
    }
   ],
   "source": [
    "my_id, movie_1035_id = user_to_idx['7777'], movie_to_idx['1035']\n",
    "my_vector, my_movie_vector = als_model.user_factors[my_id], als_model.item_factors[movie_1035_id]\n",
    "\n",
    "my_vector"
   ]
  },
  {
   "cell_type": "code",
   "execution_count": 20,
   "id": "diagnostic-private",
   "metadata": {
    "scrolled": true
   },
   "outputs": [
    {
     "data": {
      "text/plain": [
       "array([ 1.15107599e-04,  2.91579054e-04,  5.67480340e-04,  3.95541196e-04,\n",
       "        6.13309385e-04,  1.87278580e-04, -1.49131272e-04,  3.38481710e-04,\n",
       "        1.75151581e-04,  2.18853937e-04, -2.84329362e-05,  4.00596298e-04,\n",
       "        5.46211086e-04,  3.88394896e-04,  6.18088932e-04,  5.16965636e-04,\n",
       "        6.92062546e-04, -1.57628179e-04,  2.36682550e-04,  2.91122647e-04,\n",
       "        7.59043614e-04,  7.17710238e-04,  2.26070188e-04,  2.63076508e-04,\n",
       "        1.00297900e-03,  7.14300375e-04, -1.21733654e-04,  7.99616028e-05,\n",
       "        8.27414216e-04, -6.69605433e-05,  4.41933691e-04,  1.80796647e-04,\n",
       "        5.42310125e-04,  3.10692412e-04,  7.56737485e-04,  5.85029833e-04,\n",
       "        6.01143227e-04,  5.80779684e-04,  4.02765523e-04, -2.66100775e-04,\n",
       "        3.13960918e-04,  2.00813447e-04,  7.31599226e-04,  3.46750749e-04,\n",
       "        6.09471695e-04, -1.09307730e-04,  2.58866436e-04,  2.71238416e-04,\n",
       "        5.89682022e-04,  9.86651939e-05,  1.17961667e-04,  2.95081874e-04,\n",
       "        1.13318383e-03,  8.47780248e-05,  8.55302424e-05, -2.59836990e-04,\n",
       "        1.09474393e-04,  6.95089810e-04,  4.96598659e-04,  5.57640567e-04,\n",
       "        3.30961018e-04,  8.51926336e-04,  5.25574025e-04,  7.18498020e-04,\n",
       "        5.36203210e-04,  4.47885104e-04, -4.02047444e-05,  3.96761781e-04,\n",
       "        4.52930253e-04,  1.03112787e-03,  3.18257109e-04,  3.21639207e-04,\n",
       "        1.47675193e-04,  8.16661050e-04,  4.18069540e-04,  3.19876999e-04,\n",
       "        2.62110087e-04,  8.55498947e-04,  1.13333605e-04,  9.11007519e-04,\n",
       "       -2.46024691e-04,  1.84141769e-04, -5.41237932e-05,  4.32787521e-04,\n",
       "        1.76676564e-04,  5.14597516e-04,  6.57260534e-04,  4.97392146e-04,\n",
       "       -2.94395177e-05,  4.74038708e-04,  4.55494999e-04,  1.17403470e-04,\n",
       "        7.56589638e-04,  1.76272384e-04,  1.29357693e-04,  3.91104608e-04,\n",
       "        3.48364934e-04,  3.39855818e-04,  4.15312883e-04,  5.85972099e-04],\n",
       "      dtype=float32)"
      ]
     },
     "execution_count": 20,
     "metadata": {},
     "output_type": "execute_result"
    }
   ],
   "source": [
    "my_movie_vector"
   ]
  },
  {
   "cell_type": "code",
   "execution_count": 21,
   "id": "artistic-familiar",
   "metadata": {},
   "outputs": [
    {
     "data": {
      "text/plain": [
       "0.00044757547"
      ]
     },
     "execution_count": 21,
     "metadata": {},
     "output_type": "execute_result"
    }
   ],
   "source": [
    "# 내가 선호하는 5가지 영화 중 하나의 선호도 파악\n",
    "np.dot(my_vector, my_movie_vector)"
   ]
  },
  {
   "cell_type": "code",
   "execution_count": 22,
   "id": "continuous-berry",
   "metadata": {},
   "outputs": [
    {
     "data": {
      "text/plain": [
       "0.00055249914"
      ]
     },
     "execution_count": 22,
     "metadata": {},
     "output_type": "execute_result"
    }
   ],
   "source": [
    "# 내가 선호하는 않은 영화의 선호도 파악\n",
    "# id: 1 -> Toy Story (1995)\n",
    "toy_story  = movie_to_idx[1]\n",
    "toy_story_vector = als_model.item_factors[toy_story]\n",
    "np.dot(my_vector, toy_story_vector)"
   ]
  },
  {
   "cell_type": "markdown",
   "id": "collaborative-mouth",
   "metadata": {},
   "source": [
    "## 7) 내가 좋아하는 영화와 비슷한 영화를 추천받아 봅시다."
   ]
  },
  {
   "cell_type": "code",
   "execution_count": 23,
   "id": "adjusted-intervention",
   "metadata": {},
   "outputs": [
    {
     "data": {
      "text/html": [
       "<div>\n",
       "<style scoped>\n",
       "    .dataframe tbody tr th:only-of-type {\n",
       "        vertical-align: middle;\n",
       "    }\n",
       "\n",
       "    .dataframe tbody tr th {\n",
       "        vertical-align: top;\n",
       "    }\n",
       "\n",
       "    .dataframe thead th {\n",
       "        text-align: right;\n",
       "    }\n",
       "</style>\n",
       "<table border=\"1\" class=\"dataframe\">\n",
       "  <thead>\n",
       "    <tr style=\"text-align: right;\">\n",
       "      <th></th>\n",
       "      <th>movie_id</th>\n",
       "      <th>title</th>\n",
       "      <th>genre</th>\n",
       "    </tr>\n",
       "  </thead>\n",
       "  <tbody>\n",
       "    <tr>\n",
       "      <th>1672</th>\n",
       "      <td>1721</td>\n",
       "      <td>Titanic (1997)</td>\n",
       "      <td>Drama|Romance</td>\n",
       "    </tr>\n",
       "    <tr>\n",
       "      <th>2088</th>\n",
       "      <td>2157</td>\n",
       "      <td>Chambermaid on the Titanic, The (1998)</td>\n",
       "      <td>Romance</td>\n",
       "    </tr>\n",
       "    <tr>\n",
       "      <th>3334</th>\n",
       "      <td>3403</td>\n",
       "      <td>Raise the Titanic (1980)</td>\n",
       "      <td>Drama|Thriller</td>\n",
       "    </tr>\n",
       "    <tr>\n",
       "      <th>3335</th>\n",
       "      <td>3404</td>\n",
       "      <td>Titanic (1953)</td>\n",
       "      <td>Action|Drama</td>\n",
       "    </tr>\n",
       "    <tr>\n",
       "      <th>3676</th>\n",
       "      <td>3745</td>\n",
       "      <td>Titan A.E. (2000)</td>\n",
       "      <td>Adventure|Animation|Sci-Fi</td>\n",
       "    </tr>\n",
       "    <tr>\n",
       "      <th>3846</th>\n",
       "      <td>3916</td>\n",
       "      <td>Remember the Titans (2000)</td>\n",
       "      <td>Drama</td>\n",
       "    </tr>\n",
       "  </tbody>\n",
       "</table>\n",
       "</div>"
      ],
      "text/plain": [
       "      movie_id                                   title  \\\n",
       "1672      1721                          Titanic (1997)   \n",
       "2088      2157  Chambermaid on the Titanic, The (1998)   \n",
       "3334      3403                Raise the Titanic (1980)   \n",
       "3335      3404                          Titanic (1953)   \n",
       "3676      3745                       Titan A.E. (2000)   \n",
       "3846      3916              Remember the Titans (2000)   \n",
       "\n",
       "                           genre  \n",
       "1672               Drama|Romance  \n",
       "2088                     Romance  \n",
       "3334              Drama|Thriller  \n",
       "3335                Action|Drama  \n",
       "3676  Adventure|Animation|Sci-Fi  \n",
       "3846                       Drama  "
      ]
     },
     "execution_count": 23,
     "metadata": {},
     "output_type": "execute_result"
    }
   ],
   "source": [
    "# 내가 좋아하는 영화 찾기 : 타이타닉 찾기 ( id : 1721 )\n",
    "movies[movies['title'].str.contains('Tita')]"
   ]
  },
  {
   "cell_type": "code",
   "execution_count": 24,
   "id": "cooked-couple",
   "metadata": {},
   "outputs": [
    {
     "data": {
      "text/plain": [
       "[(27, 1.0),\n",
       " (384, 0.5305401),\n",
       " (3493, 0.42016423),\n",
       " (641, 0.4168241),\n",
       " (336, 0.40818116),\n",
       " (39, 0.40736434),\n",
       " (3569, 0.4044995),\n",
       " (385, 0.4000131),\n",
       " (1352, 0.39931893),\n",
       " (426, 0.39724517),\n",
       " (498, 0.3918919),\n",
       " (1668, 0.38183677),\n",
       " (2717, 0.381185),\n",
       " (626, 0.38013047),\n",
       " (666, 0.37247863)]"
      ]
     },
     "execution_count": 24,
     "metadata": {},
     "output_type": "execute_result"
    }
   ],
   "source": [
    "# 타이타닉[1721]과 비슷한 영화 추천\n",
    "titanic = movie_to_idx[1721]\n",
    "similar_movie = als_model.similar_items(titanic, N=15)\n",
    "similar_movie"
   ]
  },
  {
   "cell_type": "code",
   "execution_count": 25,
   "id": "special-hypothesis",
   "metadata": {},
   "outputs": [
    {
     "data": {
      "text/plain": [
       "['Persuasion (1995)',\n",
       " 'Boys Life (1995)',\n",
       " 'Committed (2000)',\n",
       " 'Courage Under Fire (1996)',\n",
       " 'War, The (1994)',\n",
       " 'Cry, the Beloved Country (1995)',\n",
       " 'Moonraker (1979)',\n",
       " 'Colonel Chabert, Le (1994)',\n",
       " 'Star Trek V: The Final Frontier (1989)',\n",
       " 'Calendar Girl (1993)',\n",
       " 'Next Karate Kid, The (1994)',\n",
       " 'Scream 2 (1997)',\n",
       " 'Haunted Honeymoon (1986)',\n",
       " 'All Dogs Go to Heaven 2 (1996)',\n",
       " 'Tarantella (1995)']"
      ]
     },
     "execution_count": 25,
     "metadata": {},
     "output_type": "execute_result"
    }
   ],
   "source": [
    "# 타이타닉과 비슷한 영화 목록( 정말인가.. ? )\n",
    "idx_to_movie = {v:k for k,v in movie_to_idx.items()}\n",
    "[title_to_idx[i[0]] for i in similar_movie]"
   ]
  },
  {
   "cell_type": "markdown",
   "id": "proved-combat",
   "metadata": {},
   "source": [
    "## 8) 내가 가장 좋아할 만한 영화들을 추천받아 봅시다."
   ]
  },
  {
   "cell_type": "code",
   "execution_count": 26,
   "id": "forward-understanding",
   "metadata": {},
   "outputs": [
    {
     "name": "stdout",
     "output_type": "stream",
     "text": [
      "슝=3\n"
     ]
    }
   ],
   "source": [
    "def get_similar_movie(movie_id: str):\n",
    "    movie_id = movie_to_idx[movie_id]\n",
    "    similar_movie = als_model.similar_items(movie_id)\n",
    "    similar_movie = [title_to_idx[i[0]] for i in similar_movie]\n",
    "    return similar_movie\n",
    "\n",
    "print(\"슝=3\")"
   ]
  },
  {
   "cell_type": "code",
   "execution_count": 27,
   "id": "piano-mirror",
   "metadata": {},
   "outputs": [
    {
     "data": {
      "text/html": [
       "<div>\n",
       "<style scoped>\n",
       "    .dataframe tbody tr th:only-of-type {\n",
       "        vertical-align: middle;\n",
       "    }\n",
       "\n",
       "    .dataframe tbody tr th {\n",
       "        vertical-align: top;\n",
       "    }\n",
       "\n",
       "    .dataframe thead th {\n",
       "        text-align: right;\n",
       "    }\n",
       "</style>\n",
       "<table border=\"1\" class=\"dataframe\">\n",
       "  <thead>\n",
       "    <tr style=\"text-align: right;\">\n",
       "      <th></th>\n",
       "      <th>movie_id</th>\n",
       "      <th>title</th>\n",
       "      <th>genre</th>\n",
       "    </tr>\n",
       "  </thead>\n",
       "  <tbody>\n",
       "    <tr>\n",
       "      <th>2571</th>\n",
       "      <td>2640</td>\n",
       "      <td>Superman (1978)</td>\n",
       "      <td>Action|Adventure|Sci-Fi</td>\n",
       "    </tr>\n",
       "    <tr>\n",
       "      <th>2572</th>\n",
       "      <td>2641</td>\n",
       "      <td>Superman II (1980)</td>\n",
       "      <td>Action|Adventure|Sci-Fi</td>\n",
       "    </tr>\n",
       "    <tr>\n",
       "      <th>2573</th>\n",
       "      <td>2642</td>\n",
       "      <td>Superman III (1983)</td>\n",
       "      <td>Action|Adventure|Sci-Fi</td>\n",
       "    </tr>\n",
       "    <tr>\n",
       "      <th>2574</th>\n",
       "      <td>2643</td>\n",
       "      <td>Superman IV: The Quest for Peace (1987)</td>\n",
       "      <td>Action|Adventure|Sci-Fi</td>\n",
       "    </tr>\n",
       "  </tbody>\n",
       "</table>\n",
       "</div>"
      ],
      "text/plain": [
       "      movie_id                                    title  \\\n",
       "2571      2640                          Superman (1978)   \n",
       "2572      2641                       Superman II (1980)   \n",
       "2573      2642                      Superman III (1983)   \n",
       "2574      2643  Superman IV: The Quest for Peace (1987)   \n",
       "\n",
       "                        genre  \n",
       "2571  Action|Adventure|Sci-Fi  \n",
       "2572  Action|Adventure|Sci-Fi  \n",
       "2573  Action|Adventure|Sci-Fi  \n",
       "2574  Action|Adventure|Sci-Fi  "
      ]
     },
     "execution_count": 27,
     "metadata": {},
     "output_type": "execute_result"
    }
   ],
   "source": [
    "# 내가 좋아할만한 영화 추천 : 슈퍼맨 ( id : 2640 )\n",
    "movies[movies['title'].str.contains('Superman')]\n"
   ]
  },
  {
   "cell_type": "code",
   "execution_count": 28,
   "id": "excess-pantyhose",
   "metadata": {},
   "outputs": [
    {
     "data": {
      "text/plain": [
       "['Second Best (1994)',\n",
       " 'Touki Bouki (Journey of the Hyena) (1973)',\n",
       " 'Brady Bunch Movie, The (1995)',\n",
       " 'Adventures of Robin Hood, The (1938)',\n",
       " 'Gate of Heavenly Peace, The (1995)',\n",
       " 'Aladdin (1992)',\n",
       " 'Of Love and Shadows (1994)',\n",
       " 'Dances with Wolves (1990)',\n",
       " '2001: A Space Odyssey (1968)',\n",
       " 'Secret Garden, The (1993)']"
      ]
     },
     "execution_count": 28,
     "metadata": {},
     "output_type": "execute_result"
    }
   ],
   "source": [
    "# 추천 결과\n",
    "get_similar_movie(2640)"
   ]
  },
  {
   "cell_type": "markdown",
   "id": "given-pursuit",
   "metadata": {},
   "source": [
    "## 회고\n"
   ]
  },
  {
   "cell_type": "markdown",
   "id": "hired-registrar",
   "metadata": {},
   "source": [
    "### 1. 이번 프로젝트에서 어려웠던 점\n",
    " * Matrix Factorization(MF)\n",
    " * CSR 메트릭스 계산법이..   "
   ]
  },
  {
   "cell_type": "markdown",
   "id": "relative-adelaide",
   "metadata": {},
   "source": [
    "### 2. 프로젝트를 진행하면서 알아낸 점 혹은 아직 모호한 점\n",
    "* 알아낸 점 : 어떤 식으로 추천 및 비슷한 데이터를 불러오는지에 대한 전체적인 윤곽??\n",
    "\n",
    "* 모호한 점 : 따라는 했으나, 해당 결과가 어떻게 이런 결과를 내는지는 모호함..\n",
    "\n"
   ]
  },
  {
   "cell_type": "markdown",
   "id": "existing-involvement",
   "metadata": {},
   "source": [
    "### 3. 루브릭 평가 지표를 맞추기 위해 시도한 것들.\n",
    " * 수업 예제와 비슷한(동일한) 내용 수행되도록 처리 하였다.\n"
   ]
  },
  {
   "cell_type": "markdown",
   "id": "industrial-environment",
   "metadata": {},
   "source": [
    "### 4. 만약에 루브릭 평가 관련 지표를 달성 하지 못했을 때, 이유에 관한 추정.\n",
    " * 내적 수치가 전혀 의미 있지 않았음( 이유는 잘 모르겠음 )\n",
    " * 아이템간 유사도, 기여도에 대한 부분이 의미 있는지 확인하는 과정이 없어보인다."
   ]
  },
  {
   "cell_type": "markdown",
   "id": "statistical-beginning",
   "metadata": {},
   "source": [
    "### 5. 자기 다짐\n",
    " * 다음 번엔 영화 제목을 그냥할게 아니고, 데이터 전처리( 대소문자 변환, 연도정보 삭제 등 )를 하고 진행하고 해야겠음 "
   ]
  },
  {
   "cell_type": "code",
   "execution_count": null,
   "id": "superb-stone",
   "metadata": {},
   "outputs": [],
   "source": []
  }
 ],
 "metadata": {
  "kernelspec": {
   "display_name": "Python 3",
   "language": "python",
   "name": "python3"
  },
  "language_info": {
   "codemirror_mode": {
    "name": "ipython",
    "version": 3
   },
   "file_extension": ".py",
   "mimetype": "text/x-python",
   "name": "python",
   "nbconvert_exporter": "python",
   "pygments_lexer": "ipython3",
   "version": "3.7.9"
  }
 },
 "nbformat": 4,
 "nbformat_minor": 5
}
